{
 "cells": [
  {
   "cell_type": "markdown",
   "metadata": {},
   "source": [
    "# Property Decorators \n",
    "Allow us to decorate a method that will be accessible like an attribute .\n",
    "use **@property**"
   ]
  },
  {
   "cell_type": "code",
   "execution_count": 1,
   "metadata": {
    "collapsed": true
   },
   "outputs": [],
   "source": [
    "class Employee:\n",
    "    def __init__(self, first, last):\n",
    "        self.first = first \n",
    "        self.last = last\n",
    "        self.email = first+\".\"+last + \"@weber.edu\"\n",
    "    \n",
    "    def fullname(self):\n",
    "        return \"{}{}\".format(self.first, self.last)"
   ]
  },
  {
   "cell_type": "code",
   "execution_count": 2,
   "metadata": {},
   "outputs": [
    {
     "name": "stdout",
     "output_type": "stream",
     "text": [
      "Josh\n",
      "Josh.Hootman@weber.edu\n"
     ]
    }
   ],
   "source": [
    "# Test it \n",
    "emp1 = Employee(\"Josh\", \"Hootman\")\n",
    "print(emp1.first)\n",
    "print(emp1.email)"
   ]
  },
  {
   "cell_type": "markdown",
   "metadata": {},
   "source": [
    "Change some of the attributes "
   ]
  },
  {
   "cell_type": "code",
   "execution_count": 3,
   "metadata": {},
   "outputs": [
    {
     "name": "stdout",
     "output_type": "stream",
     "text": [
      "Heather\n",
      "Josh.Hootman@weber.edu\n"
     ]
    }
   ],
   "source": [
    "emp1.first = \"Heather\"\n",
    "print(emp1.first)\n",
    "print(emp1.email)"
   ]
  },
  {
   "cell_type": "markdown",
   "metadata": {},
   "source": [
    "We want a way to automatically update the email\n",
    "Create a method like **fullname()**.  \n",
    "\n",
    "problem:  people who are already using it, it will break their code.  They will need to change their **email attribute** to an **email method**\n",
    "\n",
    "where C++ and Java programmers are happy.  We have a **setter and getters** option "
   ]
  },
  {
   "cell_type": "code",
   "execution_count": 4,
   "metadata": {
    "collapsed": true
   },
   "outputs": [],
   "source": [
    "class Employee:\n",
    "    def __init__(self, first, last):\n",
    "        self.first = first \n",
    "        self.last = last\n",
    "        \n",
    "    def email(self):\n",
    "        return \"{}.{}@weber.edu\".format(self.first, self.last)\n",
    "    \n",
    "    def fullname(self):\n",
    "        return \"{}{}\".format(self.first, self.last)"
   ]
  },
  {
   "cell_type": "code",
   "execution_count": 5,
   "metadata": {
    "collapsed": true
   },
   "outputs": [],
   "source": [
    "# Test it "
   ]
  },
  {
   "cell_type": "code",
   "execution_count": 6,
   "metadata": {},
   "outputs": [
    {
     "name": "stdout",
     "output_type": "stream",
     "text": [
      "Josh\n",
      "<bound method Employee.email of <__main__.Employee object at 0x000001FE87565C18>>\n",
      "Heather\n",
      "<bound method Employee.email of <__main__.Employee object at 0x000001FE87565C18>>\n"
     ]
    }
   ],
   "source": [
    "emp1 = Employee(\"Josh\", \"Hootman\")\n",
    "print(emp1.first)\n",
    "print(emp1.email)\n",
    "emp1.first = \"Heather\"\n",
    "print(emp1.first)\n",
    "print(emp1.email)"
   ]
  },
  {
   "cell_type": "code",
   "execution_count": 7,
   "metadata": {},
   "outputs": [
    {
     "name": "stdout",
     "output_type": "stream",
     "text": [
      "Josh\n",
      "Josh.Hootman@weber.edu\n",
      "Heather\n",
      "Heather.Hootman@weber.edu\n"
     ]
    }
   ],
   "source": [
    "emp1 = Employee(\"Josh\", \"Hootman\")\n",
    "print(emp1.first)\n",
    "print(emp1.email()) # needs parenthesis to get the value\n",
    "emp1.first = \"Heather\"\n",
    "print(emp1.first)\n",
    "print(emp1.email()) # needs parenthesis to get the value"
   ]
  },
  {
   "cell_type": "markdown",
   "metadata": {},
   "source": [
    "Change the behavior of this method, to that of an attribute "
   ]
  },
  {
   "cell_type": "code",
   "execution_count": 8,
   "metadata": {
    "collapsed": true
   },
   "outputs": [],
   "source": [
    "class Employee:\n",
    "    def __init__(self, first, last):\n",
    "        self.first = first \n",
    "        self.last = last\n",
    "    @property  \n",
    "    def email(self):\n",
    "        return \"{}.{}@weber.edu\".format(self.first, self.last)\n",
    "    \n",
    "    @property\n",
    "    def fullname(self):\n",
    "        return \"{}{}\".format(self.first, self.last)"
   ]
  },
  {
   "cell_type": "code",
   "execution_count": 9,
   "metadata": {},
   "outputs": [
    {
     "name": "stdout",
     "output_type": "stream",
     "text": [
      "Josh\n",
      "Josh.Hootman@weber.edu\n",
      "Heather\n",
      "Heather.Hootman@weber.edu\n"
     ]
    }
   ],
   "source": [
    "emp1 = Employee(\"Josh\", \"Hootman\")\n",
    "print(emp1.first)\n",
    "print(emp1.email)\n",
    "emp1.first = \"Heather\"\n",
    "print(emp1.first)\n",
    "print(emp1.email)"
   ]
  },
  {
   "cell_type": "markdown",
   "metadata": {},
   "source": [
    "#### The above will give you **getters**"
   ]
  },
  {
   "cell_type": "markdown",
   "metadata": {},
   "source": [
    "#### Now try setters "
   ]
  },
  {
   "cell_type": "code",
   "execution_count": 10,
   "metadata": {},
   "outputs": [
    {
     "ename": "AttributeError",
     "evalue": "can't set attribute",
     "output_type": "error",
     "traceback": [
      "\u001b[1;31m---------------------------------------------------------------------------\u001b[0m",
      "\u001b[1;31mAttributeError\u001b[0m                            Traceback (most recent call last)",
      "\u001b[1;32m<ipython-input-10-bb452ded890c>\u001b[0m in \u001b[0;36m<module>\u001b[1;34m()\u001b[0m\n\u001b[1;32m----> 1\u001b[1;33m \u001b[0memp1\u001b[0m\u001b[1;33m.\u001b[0m\u001b[0mfullname\u001b[0m \u001b[1;33m=\u001b[0m \u001b[1;34m\"Jared Hootman\"\u001b[0m\u001b[1;33m\u001b[0m\u001b[0m\n\u001b[0m",
      "\u001b[1;31mAttributeError\u001b[0m: can't set attribute"
     ]
    }
   ],
   "source": [
    "emp1.fullname = \"Jared Hootman\""
   ]
  },
  {
   "cell_type": "markdown",
   "metadata": {},
   "source": [
    "To set values, we need another decorator **@method.setter**  \n",
    "\n",
    "ex: **@fullname.setter**"
   ]
  },
  {
   "cell_type": "code",
   "execution_count": null,
   "metadata": {
    "collapsed": true
   },
   "outputs": [],
   "source": [
    "class Employee:\n",
    "    def __init__(self, first, last):\n",
    "        self.first = first \n",
    "        self.last = last\n",
    "        \n",
    "    @property  \n",
    "    def email(self):\n",
    "        return \"{}.{}@weber.edu\".format(self.first, self.last)\n",
    "    \n",
    "    @property\n",
    "    def fullname(self):\n",
    "        return \"{}{}\".format(self.first, self.last)\n",
    "    \n",
    "    @fullname.setter\n",
    "    def fullname(self, name):\n",
    "        first, last = name.split(' ')\n",
    "        self.first = first\n",
    "        self.last = last \n",
    "        "
   ]
  },
  {
   "cell_type": "code",
   "execution_count": null,
   "metadata": {},
   "outputs": [],
   "source": [
    "emp1 = Employee(\"Josh\", \"Hootman\")\n",
    "print(emp1.first)\n",
    "print(emp1.email)\n",
    "print(emp1.fullname)\n",
    "# Update values \n",
    "emp1.first = \"Heather\"\n",
    "print(emp1.fullname)"
   ]
  },
  {
   "cell_type": "markdown",
   "metadata": {},
   "source": [
    "### Deleters\n",
    "to do some clean up.  Not as common."
   ]
  },
  {
   "cell_type": "code",
   "execution_count": null,
   "metadata": {
    "collapsed": true
   },
   "outputs": [],
   "source": [
    "class Employee:\n",
    "    def __init__(self, first, last):\n",
    "        self.first = first \n",
    "        self.last = last\n",
    "        \n",
    "    @property  \n",
    "    def email(self):\n",
    "        return \"{}.{}@weber.edu\".format(self.first, self.last)\n",
    "    \n",
    "    @property\n",
    "    def fullname(self):\n",
    "        return \"{}{}\".format(self.first, self.last)\n",
    "    \n",
    "    @fullname.setter\n",
    "    def fullname(self, name):\n",
    "        first, last = name.split(' ')\n",
    "        self.first = first\n",
    "        self.last = last \n",
    "        \n",
    "    @fullname.deleter\n",
    "    def fullname(self):\n",
    "        print(\"Delete Name\")\n",
    "        self.first = None\n",
    "        self.last = None"
   ]
  },
  {
   "cell_type": "code",
   "execution_count": null,
   "metadata": {},
   "outputs": [],
   "source": [
    "emp1 = Employee(\"Josh\", \"Hootman\")\n",
    "print(emp1.first)\n",
    "print(emp1.email)\n",
    "print(emp1.fullname)\n",
    "# Update values \n",
    "emp1.first = \"Heather\"\n",
    "print(emp1.fullname)\n",
    "# Delete \n",
    "del emp1.fullname"
   ]
  },
  {
   "cell_type": "markdown",
   "metadata": {
    "collapsed": true
   },
   "source": [
    "### Static Method with Inhertitance \n",
    "\n",
    "Unlike other languages static methods **can** be overwritten in subclasses."
   ]
  },
  {
   "cell_type": "markdown",
   "metadata": {},
   "source": [
    "### Class Methods with inheritance \n",
    "Python has the ability to have class methods behave polymorphically as a distinghished feature of python.\n",
    "\n",
    "\n",
    "These invocations work because the base class **\\_\\_init\\_\\_** method is inherited into the class."
   ]
  }
 ],
 "metadata": {
  "kernelspec": {
   "display_name": "Python 3",
   "language": "python",
   "name": "python3"
  },
  "language_info": {
   "codemirror_mode": {
    "name": "ipython",
    "version": 3
   },
   "file_extension": ".py",
   "mimetype": "text/x-python",
   "name": "python",
   "nbconvert_exporter": "python",
   "pygments_lexer": "ipython3",
   "version": "3.5.1"
  }
 },
 "nbformat": 4,
 "nbformat_minor": 2
}
