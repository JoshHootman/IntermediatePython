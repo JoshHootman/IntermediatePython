{
 "cells": [
  {
   "cell_type": "markdown",
   "metadata": {},
   "source": [
    "# Class variables\n"
   ]
  },
  {
   "cell_type": "code",
   "execution_count": 9,
   "metadata": {},
   "outputs": [],
   "source": [
    "class Employee:\n",
    "    def __init__(self, first, last, pay):\n",
    "        self.first = first \n",
    "        self.last = last\n",
    "        self.pay = pay\n",
    "        self.email = \"{}{}\".format(self.first, self.last)\n",
    "    def fullname(self):\n",
    "        return \"{} {}\".format(self.first, self.last)"
   ]
  },
  {
   "cell_type": "code",
   "execution_count": 10,
   "metadata": {},
   "outputs": [
    {
     "name": "stdout",
     "output_type": "stream",
     "text": [
      "Josh Hootman\n",
      "Heather Downing\n",
      "<bound method Employee.fullname of <__main__.Employee object at 0x000001FAD497D710>>\n"
     ]
    }
   ],
   "source": [
    "emp1 = Employee(\"Josh\", \"Hootman\", 68000)\n",
    "emp2 = Employee(\"Heather\", \"Downing\", 68000)\n",
    "\n",
    "print(emp1.fullname())\n",
    "print(emp2.fullname())\n",
    "print(emp2.fullname)\n"
   ]
  },
  {
   "cell_type": "markdown",
   "metadata": {},
   "source": [
    "## Class variables\n",
    "They are visible for every instance of the class.  Instead of local variables to one instance. "
   ]
  },
  {
   "cell_type": "code",
   "execution_count": 18,
   "metadata": {
    "collapsed": true
   },
   "outputs": [],
   "source": [
    "class Employee:\n",
    "    def __init__(self, first, last, pay):\n",
    "        self.first = first \n",
    "        self.last = last\n",
    "        self.pay = pay\n",
    "        self.email = \"{}{}\".format(self.first, self.last)\n",
    "    \n",
    "    def fullname(self):\n",
    "        return \"{}{}\".format(self.first, self.last)\n",
    "    \n",
    "    def apply_raise(self):\n",
    "        self.pay = int(self.pay  * 1.04) # 4% raise \n",
    "         "
   ]
  },
  {
   "cell_type": "code",
   "execution_count": 19,
   "metadata": {},
   "outputs": [
    {
     "name": "stdout",
     "output_type": "stream",
     "text": [
      "JoshHootman\n",
      "68000\n",
      "70720\n"
     ]
    }
   ],
   "source": [
    "emp1 = Employee(\"Josh\", \"Hootman\", 68000)\n",
    "\n",
    "print(emp1.fullname())\n",
    "print(emp1.pay)\n",
    "emp1.apply_raise()\n",
    "print(emp1.pay)\n"
   ]
  },
  {
   "cell_type": "markdown",
   "metadata": {},
   "source": [
    "What if you wanted to increase the 4%?  \n",
    "\n",
    "    you do not want to do it manually. make it a class variable "
   ]
  },
  {
   "cell_type": "code",
   "execution_count": 23,
   "metadata": {},
   "outputs": [],
   "source": [
    "class Employee:\n",
    "    raise_amount = 1.04\n",
    "    def __init__(self, first, last, pay):\n",
    "        self.first = first \n",
    "        self.last = last\n",
    "        self.pay = pay\n",
    "        self.email = \"{}{}\".format(self.first, self.last)\n",
    "    \n",
    "    def fullname(self):\n",
    "        return \"{}{}\".format(self.first, self.last)\n",
    "    \n",
    "    def apply_raise(self):\n",
    "        self.pay = int(self.pay  * raise_amount) "
   ]
  },
  {
   "cell_type": "code",
   "execution_count": 24,
   "metadata": {},
   "outputs": [
    {
     "name": "stdout",
     "output_type": "stream",
     "text": [
      "HeatherHootman\n",
      "30000\n"
     ]
    },
    {
     "ename": "NameError",
     "evalue": "name 'raise_amount' is not defined",
     "output_type": "error",
     "traceback": [
      "\u001b[1;31m---------------------------------------------------------------------------\u001b[0m",
      "\u001b[1;31mNameError\u001b[0m                                 Traceback (most recent call last)",
      "\u001b[1;32m<ipython-input-24-acd15fa31ab2>\u001b[0m in \u001b[0;36m<module>\u001b[1;34m()\u001b[0m\n\u001b[0;32m      3\u001b[0m \u001b[0mprint\u001b[0m\u001b[1;33m(\u001b[0m\u001b[0memp1\u001b[0m\u001b[1;33m.\u001b[0m\u001b[0mfullname\u001b[0m\u001b[1;33m(\u001b[0m\u001b[1;33m)\u001b[0m\u001b[1;33m)\u001b[0m\u001b[1;33m\u001b[0m\u001b[0m\n\u001b[0;32m      4\u001b[0m \u001b[0mprint\u001b[0m\u001b[1;33m(\u001b[0m\u001b[0memp1\u001b[0m\u001b[1;33m.\u001b[0m\u001b[0mpay\u001b[0m\u001b[1;33m)\u001b[0m\u001b[1;33m\u001b[0m\u001b[0m\n\u001b[1;32m----> 5\u001b[1;33m \u001b[0memp1\u001b[0m\u001b[1;33m.\u001b[0m\u001b[0mapply_raise\u001b[0m\u001b[1;33m(\u001b[0m\u001b[1;33m)\u001b[0m\u001b[1;33m\u001b[0m\u001b[0m\n\u001b[0m\u001b[0;32m      6\u001b[0m \u001b[0mprint\u001b[0m\u001b[1;33m(\u001b[0m\u001b[0memp1\u001b[0m\u001b[1;33m.\u001b[0m\u001b[0mpay\u001b[0m\u001b[1;33m)\u001b[0m\u001b[1;33m\u001b[0m\u001b[0m\n",
      "\u001b[1;32m<ipython-input-23-817c6d722c82>\u001b[0m in \u001b[0;36mapply_raise\u001b[1;34m(self)\u001b[0m\n\u001b[0;32m     11\u001b[0m \u001b[1;33m\u001b[0m\u001b[0m\n\u001b[0;32m     12\u001b[0m     \u001b[1;32mdef\u001b[0m \u001b[0mapply_raise\u001b[0m\u001b[1;33m(\u001b[0m\u001b[0mself\u001b[0m\u001b[1;33m)\u001b[0m\u001b[1;33m:\u001b[0m\u001b[1;33m\u001b[0m\u001b[0m\n\u001b[1;32m---> 13\u001b[1;33m         \u001b[0mself\u001b[0m\u001b[1;33m.\u001b[0m\u001b[0mpay\u001b[0m \u001b[1;33m=\u001b[0m \u001b[0mint\u001b[0m\u001b[1;33m(\u001b[0m\u001b[0mself\u001b[0m\u001b[1;33m.\u001b[0m\u001b[0mpay\u001b[0m  \u001b[1;33m*\u001b[0m \u001b[0mraise_amount\u001b[0m\u001b[1;33m)\u001b[0m\u001b[1;33m\u001b[0m\u001b[0m\n\u001b[0m",
      "\u001b[1;31mNameError\u001b[0m: name 'raise_amount' is not defined"
     ]
    }
   ],
   "source": [
    "emp1 = Employee(\"Heather\", \"Hootman\", 30000)\n",
    "\n",
    "print(emp1.fullname())\n",
    "print(emp1.pay)\n",
    "emp1.apply_raise()\n",
    "print(emp1.pay)\n"
   ]
  },
  {
   "cell_type": "code",
   "execution_count": 30,
   "metadata": {},
   "outputs": [
    {
     "name": "stdout",
     "output_type": "stream",
     "text": [
      "HeatherHootman\n",
      "30000\n",
      "31200\n"
     ]
    }
   ],
   "source": [
    "class Employee:\n",
    "    raise_amount = 1.04\n",
    "    def __init__(self, first, last, pay):\n",
    "        self.first = first \n",
    "        self.last = last\n",
    "        self.pay = pay\n",
    "        self.email = \"{}{}\".format(self.first, self.last)\n",
    "    \n",
    "    def fullname(self):\n",
    "        return \"{}{}\".format(self.first, self.last)\n",
    "    \n",
    "    def apply_raise(self):\n",
    "        # you cannot access the class variable directly.\n",
    "        # you need the class name\n",
    "        # self.pay = int(self.pay  * Employee.raise_amount) \n",
    "        #create a instance variable \n",
    "        self.pay = int(self.pay  * self.raise_amount) \n",
    "        \n",
    "emp1 = Employee(\"Heather\", \"Hootman\", 30000)\n",
    "\n",
    "print(emp1.fullname())\n",
    "print(emp1.pay)\n",
    "emp1.apply_raise()\n",
    "print(emp1.pay)\n"
   ]
  },
  {
   "cell_type": "code",
   "execution_count": 39,
   "metadata": {},
   "outputs": [
    {
     "name": "stdout",
     "output_type": "stream",
     "text": [
      "1.05\n",
      "1.05\n",
      "1.05\n"
     ]
    }
   ],
   "source": [
    "# More scenarios\n",
    "emp1 = Employee(\"Josh\", \"Hootman\", 68000)\n",
    "emp2 = Employee(\"Heather\", \"Downing\", 68000)\n",
    "\n",
    "print(Employee.raise_amount)\n",
    "print(emp1.raise_amount)\n",
    "print(emp2.raise_amount)"
   ]
  },
  {
   "cell_type": "markdown",
   "metadata": {},
   "source": [
    "You can access your variable both ways\n",
    "\n",
    "\n",
    "1) first it checks the instance has this attribute\n",
    "\n",
    "\n",
    "2) it will check if the class has it or if the class inherits from another class\n"
   ]
  },
  {
   "cell_type": "code",
   "execution_count": 34,
   "metadata": {},
   "outputs": [
    {
     "name": "stdout",
     "output_type": "stream",
     "text": [
      "{'email': 'JaredHootman', 'first': 'Jared', 'last': 'Hootman', 'pay': 70000}\n"
     ]
    }
   ],
   "source": [
    "# namespace \n",
    "emp3 = Employee(\"Jared\", \"Hootman\", 70000)\n",
    "print(emp3.__dict__)"
   ]
  },
  {
   "cell_type": "code",
   "execution_count": 35,
   "metadata": {},
   "outputs": [
    {
     "name": "stdout",
     "output_type": "stream",
     "text": [
      "{'__dict__': <attribute '__dict__' of 'Employee' objects>, '__module__': '__main__', 'raise_amount': 1.04, '__weakref__': <attribute '__weakref__' of 'Employee' objects>, '__doc__': None, 'fullname': <function Employee.fullname at 0x000001FAD4992158>, '__init__': <function Employee.__init__ at 0x000001FAD49927B8>, 'apply_raise': <function Employee.apply_raise at 0x000001FAD49920D0>}\n"
     ]
    }
   ],
   "source": [
    "print(Employee.__dict__)"
   ]
  },
  {
   "cell_type": "code",
   "execution_count": 38,
   "metadata": {},
   "outputs": [
    {
     "name": "stdout",
     "output_type": "stream",
     "text": [
      "1.05\n",
      "1.05\n",
      "1.05\n"
     ]
    }
   ],
   "source": [
    "# More scenarios\n",
    "emp1 = Employee(\"Josh\", \"Hootman\", 68000)\n",
    "emp2 = Employee(\"Heather\", \"Downing\", 68000)\n",
    "Employee.raise_amount = 1.05 #udate class variable\n",
    "print(Employee.raise_amount)\n",
    "print(emp1.raise_amount)\n",
    "print(emp2.raise_amount)\n",
    "\n"
   ]
  },
  {
   "cell_type": "code",
   "execution_count": 40,
   "metadata": {},
   "outputs": [
    {
     "name": "stdout",
     "output_type": "stream",
     "text": [
      "1.05\n",
      "1.09\n",
      "1.05\n"
     ]
    }
   ],
   "source": [
    "# What if I use an instance \n",
    "emp1.raise_amount = 1.09\n",
    "print(Employee.raise_amount)\n",
    "print(emp1.raise_amount)\n",
    "print(emp2.raise_amount)"
   ]
  },
  {
   "cell_type": "code",
   "execution_count": 42,
   "metadata": {},
   "outputs": [
    {
     "name": "stdout",
     "output_type": "stream",
     "text": [
      "{'raise_amount': 1.09, 'email': 'JoshHootman', 'first': 'Josh', 'last': 'Hootman', 'pay': 68000}\n",
      "{'email': 'HeatherDowning', 'first': 'Heather', 'last': 'Downing', 'pay': 68000}\n"
     ]
    }
   ],
   "source": [
    "print(emp1.__dict__)\n",
    "print(emp2.__dict__)"
   ]
  },
  {
   "cell_type": "markdown",
   "metadata": {},
   "source": [
    "emp1 now finds the **raise_amount** in the local namespace <br>\n",
    "Allows any subclass to overwrite this value if needed."
   ]
  },
  {
   "cell_type": "code",
   "execution_count": 43,
   "metadata": {
    "collapsed": true
   },
   "outputs": [],
   "source": [
    "class Employee:\n",
    "    num_of_emp =0\n",
    "    raise_amount = 1.04\n",
    "    def __init__(self, first, last, pay):\n",
    "        self.first = first \n",
    "        self.last = last\n",
    "        self.pay = pay\n",
    "        self.email = \"{}{}\".format(self.first, self.last)\n",
    "        Employee.num_of_emp += 1\n",
    "    \n",
    "    def fullname(self):\n",
    "        return \"{}{}\".format(self.first, self.last)\n",
    "    \n",
    "    def apply_raise(self):\n",
    "        self.pay = int(self.pay  * self.raise_amount) "
   ]
  },
  {
   "cell_type": "code",
   "execution_count": 45,
   "metadata": {},
   "outputs": [
    {
     "name": "stdout",
     "output_type": "stream",
     "text": [
      "0\n",
      "2\n"
     ]
    }
   ],
   "source": [
    "print(Employee.num_of_emp)\n",
    "emp1 = Employee(\"Josh\", \"Hootman\", 68000)\n",
    "emp2 = Employee(\"Heather\", \"Downing\", 68000)\n",
    "print(Employee.num_of_emp)"
   ]
  },
  {
   "cell_type": "code",
   "execution_count": null,
   "metadata": {
    "collapsed": true
   },
   "outputs": [],
   "source": []
  },
  {
   "cell_type": "code",
   "execution_count": null,
   "metadata": {
    "collapsed": true
   },
   "outputs": [],
   "source": []
  },
  {
   "cell_type": "code",
   "execution_count": null,
   "metadata": {
    "collapsed": true
   },
   "outputs": [],
   "source": []
  },
  {
   "cell_type": "code",
   "execution_count": null,
   "metadata": {
    "collapsed": true
   },
   "outputs": [],
   "source": []
  }
 ],
 "metadata": {
  "kernelspec": {
   "display_name": "Python 3",
   "language": "python",
   "name": "python3"
  },
  "language_info": {
   "codemirror_mode": {
    "name": "ipython",
    "version": 3
   },
   "file_extension": ".py",
   "mimetype": "text/x-python",
   "name": "python",
   "nbconvert_exporter": "python",
   "pygments_lexer": "ipython3",
   "version": "3.5.1"
  }
 },
 "nbformat": 4,
 "nbformat_minor": 2
}
