{
 "cells": [
  {
   "cell_type": "markdown",
   "metadata": {},
   "source": [
    "# Class Methods and Static Methods\n",
    "Regular methods in our classes. take the **self** as the first argument.  \n",
    "\n",
    "To turn a regular method into a class method, use a decorator called **@classmethod**\n"
   ]
  },
  {
   "cell_type": "code",
   "execution_count": 3,
   "metadata": {},
   "outputs": [],
   "source": [
    "class Employee:\n",
    "    num_of_emp =0\n",
    "    raise_amount = 1.04\n",
    "    def __init__(self, first, last, pay):\n",
    "        self.first = first \n",
    "        self.last = last\n",
    "        self.pay = pay\n",
    "        self.email = \"{}{}\".format(self.first, self.last)\n",
    "        Employee.num_of_emp += 1\n",
    "    \n",
    "    def fullname(self):\n",
    "        return \"{}{}\".format(self.first, self.last)\n",
    "    \n",
    "    def apply_raise(self):\n",
    "        self.pay = int(self.pay  * self.raise_amount) \n",
    "        \n",
    "    @classmethod\n",
    "    def set_raise_amt(cls, amount):\n",
    "        cls.raise_amount = amount"
   ]
  },
  {
   "cell_type": "code",
   "execution_count": 7,
   "metadata": {},
   "outputs": [
    {
     "name": "stdout",
     "output_type": "stream",
     "text": [
      "1.04\n",
      "1.04\n",
      "1.04\n",
      "1.06\n",
      "1.06\n",
      "1.06\n"
     ]
    }
   ],
   "source": [
    "emp1 = Employee(\"Josh\", \"Hootman\", 68000)\n",
    "emp2 = Employee(\"Heather\", \"Downing\", 68000)\n",
    "print(Employee.raise_amount)\n",
    "print(emp1.raise_amount)\n",
    "print(emp2.raise_amount)\n",
    "\n",
    "#set the raise \n",
    "Employee.set_raise_amt(1.06)\n",
    "print(Employee.raise_amount)\n",
    "print(emp1.raise_amount)\n",
    "print(emp2.raise_amount)"
   ]
  },
  {
   "cell_type": "code",
   "execution_count": 11,
   "metadata": {},
   "outputs": [
    {
     "name": "stdout",
     "output_type": "stream",
     "text": [
      "1.07\n",
      "1.07\n",
      "1.07\n"
     ]
    }
   ],
   "source": [
    "# now update it through an instance \n",
    "emp1.set_raise_amt(1.07)\n",
    "print(Employee.raise_amount)\n",
    "print(emp1.raise_amount)\n",
    "print(emp2.raise_amount)"
   ]
  },
  {
   "cell_type": "markdown",
   "metadata": {},
   "source": [
    "## Alternative Constructors \n",
    "Provide multiple ways to create objects \n"
   ]
  },
  {
   "cell_type": "code",
   "execution_count": 27,
   "metadata": {},
   "outputs": [
    {
     "name": "stdout",
     "output_type": "stream",
     "text": [
      "ChrisHootman\n"
     ]
    }
   ],
   "source": [
    "emp1 = Employee(\"Josh\", \"Hootman\", 68000)\n",
    "emp2 = Employee(\"Heather\", \"Downing\", 68000)\n",
    "# CSV records \n",
    "emp3_str =\"Jared-Hootman-70000\"\n",
    "emp4_str =\"Chris-Hootman-70000\"\n",
    "# Task: split record, then create instance \n",
    "first, last, pay = emp3_str.split('-')\n",
    "emp3 = Employee(first, last,pay)\n",
    "#unpacked on the fly.  use \"*\" to unpack \n",
    "emp4= Employee(*emp4_str.split('-'))\n",
    "\n",
    "print(emp4.email)"
   ]
  },
  {
   "cell_type": "markdown",
   "metadata": {},
   "source": [
    "When creating alternative constructors, the naming convention suggest to begin with **from_**name"
   ]
  },
  {
   "cell_type": "code",
   "execution_count": 28,
   "metadata": {
    "collapsed": true
   },
   "outputs": [],
   "source": [
    "class Employee:\n",
    "    num_of_emp =0\n",
    "    raise_amount = 1.04\n",
    "    def __init__(self, first, last, pay):\n",
    "        self.first = first \n",
    "        self.last = last\n",
    "        self.pay = pay\n",
    "        self.email = \"{}{}\".format(self.first, self.last)\n",
    "        Employee.num_of_emp += 1\n",
    "    \n",
    "    def fullname(self):\n",
    "        return \"{}{}\".format(self.first, self.last)\n",
    "    \n",
    "    def apply_raise(self):\n",
    "        self.pay = int(self.pay  * self.raise_amount) \n",
    "        \n",
    "    @classmethod\n",
    "    def set_raise_amt(cls, amount):\n",
    "        cls.raise_amount = amount\n",
    "        \n",
    "    @classmethod\n",
    "    def from_string(cls, emp_str):\n",
    "        first, last, pay = emp3_str.split('-')\n",
    "        #create and return a new employee\n",
    "        return cls(first, last, pay)"
   ]
  },
  {
   "cell_type": "code",
   "execution_count": 29,
   "metadata": {},
   "outputs": [
    {
     "name": "stdout",
     "output_type": "stream",
     "text": [
      "JaredHootman\n"
     ]
    }
   ],
   "source": [
    "emp6_str = \"Lillie-Hootman-20000\"\n",
    "emp6 = Employee.from_string(emp6_str)\n",
    "print(emp6.email)"
   ]
  },
  {
   "cell_type": "markdown",
   "metadata": {},
   "source": [
    "Review the **datetime**module for examples on multiple constructors "
   ]
  },
  {
   "cell_type": "code",
   "execution_count": 32,
   "metadata": {},
   "outputs": [
    {
     "data": {
      "text/plain": [
       "'C:\\\\Program Files\\\\Python35\\\\lib\\\\datetime.py'"
      ]
     },
     "execution_count": 32,
     "metadata": {},
     "output_type": "execute_result"
    }
   ],
   "source": [
    "import datetime\n",
    "datetime.__file__"
   ]
  },
  {
   "cell_type": "markdown",
   "metadata": {},
   "source": [
    "## Static Methods \n",
    "- instance methods pass the **self** as first parameter \n",
    "- Class methods pass the **cls** as the first parameter\n",
    "- static methods do not pass anything automaticlly.  The are just regular defenitions.  Except they are relevent to the class.<br>\n",
    "    -They use a decorator @staticmethod"
   ]
  },
  {
   "cell_type": "code",
   "execution_count": 35,
   "metadata": {},
   "outputs": [],
   "source": [
    "class Employee:\n",
    "    num_of_emp =0\n",
    "    raise_amount = 1.04\n",
    "    def __init__(self, first, last, pay):\n",
    "        self.first = first \n",
    "        self.last = last\n",
    "        self.pay = pay\n",
    "        self.email = \"{}{}\".format(self.first, self.last)\n",
    "        Employee.num_of_emp += 1\n",
    "    \n",
    "    def fullname(self):\n",
    "        return \"{}{}\".format(self.first, self.last)\n",
    "    \n",
    "    def apply_raise(self):\n",
    "        self.pay = int(self.pay  * self.raise_amount) \n",
    "        \n",
    "    @classmethod\n",
    "    def set_raise_amt(cls, amount):\n",
    "        cls.raise_amount = amount\n",
    "        \n",
    "    @classmethod\n",
    "    def from_string(cls, emp_str):\n",
    "        first, last, pay = emp3_str.split('-')\n",
    "        #create and return a new employee\n",
    "        return cls(first, last, pay)\n",
    "    \n",
    "    @staticmethod \n",
    "    def is_workday(day):\n",
    "        \"\"\"\n",
    "        Monday = 0, Tuesday = 1 ... Sunday =6\n",
    "        \"\"\"\n",
    "        if day.weekday() == 5 or day.weekday == 6:\n",
    "            return False\n",
    "        return True"
   ]
  },
  {
   "cell_type": "code",
   "execution_count": 37,
   "metadata": {},
   "outputs": [
    {
     "name": "stdout",
     "output_type": "stream",
     "text": [
      "True\n"
     ]
    }
   ],
   "source": [
    "import datetime\n",
    "emp1 = Employee(\"Josh\", \"Hootman\", 68000)\n",
    "emp2 = Employee(\"Heather\", \"Downing\", 68000)\n",
    "my_date = datetime.date(2017,5,15)\n",
    "print(Employee.is_workday(my_date))"
   ]
  },
  {
   "cell_type": "markdown",
   "metadata": {},
   "source": [
    "Note on when to use static methods <br>\n",
    "If you do not access any attributes from the instance **self** or class **cls**, you could define it as **static**"
   ]
  },
  {
   "cell_type": "code",
   "execution_count": null,
   "metadata": {
    "collapsed": true
   },
   "outputs": [],
   "source": []
  },
  {
   "cell_type": "code",
   "execution_count": null,
   "metadata": {
    "collapsed": true
   },
   "outputs": [],
   "source": []
  },
  {
   "cell_type": "code",
   "execution_count": null,
   "metadata": {
    "collapsed": true
   },
   "outputs": [],
   "source": []
  }
 ],
 "metadata": {
  "kernelspec": {
   "display_name": "Python 3",
   "language": "python",
   "name": "python3"
  },
  "language_info": {
   "codemirror_mode": {
    "name": "ipython",
    "version": 3
   },
   "file_extension": ".py",
   "mimetype": "text/x-python",
   "name": "python",
   "nbconvert_exporter": "python",
   "pygments_lexer": "ipython3",
   "version": "3.5.1"
  }
 },
 "nbformat": 4,
 "nbformat_minor": 2
}
