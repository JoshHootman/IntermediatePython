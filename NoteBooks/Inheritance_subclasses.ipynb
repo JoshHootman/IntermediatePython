{
 "cells": [
  {
   "cell_type": "markdown",
   "metadata": {},
   "source": [
    "# Inheritance and subclasses\n",
    "we can create sublcasses. and get all the functionalilty from our parent/base class"
   ]
  },
  {
   "cell_type": "code",
   "execution_count": 14,
   "metadata": {
    "collapsed": true
   },
   "outputs": [],
   "source": [
    "class Employee:\n",
    "    num_of_emps = 0\n",
    "    raise_amount = 1.04\n",
    "    \n",
    "    def __init__(self, first, last, pay):\n",
    "        self.first = first \n",
    "        self.last = last\n",
    "        self.pay = pay\n",
    "        self.email = first+\".\"+last + \"@weber.edu\"\n",
    "        Employee.num_of_emps += 1\n",
    "    \n",
    "    def fullname(self):\n",
    "        return \"{}{}\".format(self.first, self.last)\n",
    "    \n",
    "    def apply_raise(self): \n",
    "        self.pay = int(self.pay*self.raise_amount)\n",
    "        \n",
    "class Developer(Employee):\n",
    "    pass\n"
   ]
  },
  {
   "cell_type": "code",
   "execution_count": 15,
   "metadata": {},
   "outputs": [
    {
     "name": "stdout",
     "output_type": "stream",
     "text": [
      "Joshua.Hootman@weber.edu\n",
      "PaulSheets\n"
     ]
    }
   ],
   "source": [
    "dev1 = Developer(\"Joshua\", \"Hootman\", 68000)\n",
    "dev2 = Developer(\"Paul\", \"Sheets\", 45000)\n",
    "\n",
    "print(dev1.email) # getting the email from the base class\n",
    "print(dev2.fullname()) # getting the email from the base class"
   ]
  },
  {
   "cell_type": "markdown",
   "metadata": {},
   "source": [
    "Python follows this cain of inheritance until it finds what it is looking for.  This chain is called **Method Resolution**"
   ]
  },
  {
   "cell_type": "code",
   "execution_count": 8,
   "metadata": {},
   "outputs": [
    {
     "name": "stdout",
     "output_type": "stream",
     "text": [
      "Help on class Developer in module __main__:\n",
      "\n",
      "class Developer(Employee)\n",
      " |  Method resolution order:\n",
      " |      Developer\n",
      " |      Employee\n",
      " |      builtins.object\n",
      " |  \n",
      " |  Methods inherited from Employee:\n",
      " |  \n",
      " |  __init__(self, first, last, pay)\n",
      " |      Initialize self.  See help(type(self)) for accurate signature.\n",
      " |  \n",
      " |  apply_raise(self)\n",
      " |  \n",
      " |  fullname(self)\n",
      " |  \n",
      " |  ----------------------------------------------------------------------\n",
      " |  Data descriptors inherited from Employee:\n",
      " |  \n",
      " |  __dict__\n",
      " |      dictionary for instance variables (if defined)\n",
      " |  \n",
      " |  __weakref__\n",
      " |      list of weak references to the object (if defined)\n",
      " |  \n",
      " |  ----------------------------------------------------------------------\n",
      " |  Data and other attributes inherited from Employee:\n",
      " |  \n",
      " |  num_of_emps = 8\n",
      " |  \n",
      " |  raise_amount = 1.04\n",
      "\n",
      "None\n"
     ]
    }
   ],
   "source": [
    "print(help(Developer))"
   ]
  },
  {
   "cell_type": "markdown",
   "metadata": {},
   "source": [
    "This class has the following **Resolution Orer**:\n",
    "1. Class Developer(Employee)\n",
    "2. method resolution orer: \n",
    "    * Developer\n",
    "    * Employee\n",
    "    * builtins.object\n",
    "    \n",
    "now, every object in Python has the **builtins.object** as the top object.  "
   ]
  },
  {
   "cell_type": "code",
   "execution_count": 11,
   "metadata": {},
   "outputs": [
    {
     "name": "stdout",
     "output_type": "stream",
     "text": [
      "73548\n",
      "76489\n"
     ]
    }
   ],
   "source": [
    "print(dev1.pay)\n",
    "dev1.apply_raise()\n",
    "print(dev1.pay)"
   ]
  },
  {
   "cell_type": "markdown",
   "metadata": {},
   "source": [
    "Customize our class a little.  Our developer will have a 10% raise."
   ]
  },
  {
   "cell_type": "code",
   "execution_count": 16,
   "metadata": {
    "collapsed": true
   },
   "outputs": [],
   "source": [
    "class Employee:\n",
    "    num_of_emps = 0\n",
    "    raise_amount = 1.04\n",
    "    \n",
    "    def __init__(self, first, last, pay):\n",
    "        self.first = first \n",
    "        self.last = last\n",
    "        self.pay = pay\n",
    "        self.email = first+\".\"+last + \"@weber.edu\"\n",
    "        Employee.num_of_emps += 1\n",
    "    \n",
    "    def fullname(self):\n",
    "        return \"{}{}\".format(self.first, self.last)\n",
    "    \n",
    "    def apply_raise(self): \n",
    "        self.pay = int(self.pay*self.raise_amount)\n",
    "        \n",
    "class Developer(Employee):\n",
    "    raise_amount = 1.10\n"
   ]
  },
  {
   "cell_type": "code",
   "execution_count": 18,
   "metadata": {},
   "outputs": [
    {
     "name": "stdout",
     "output_type": "stream",
     "text": [
      "68000\n",
      "74800\n"
     ]
    }
   ],
   "source": [
    "dev1 = Developer(\"Joshua\", \"Hootman\", 68000)\n",
    "print(dev1.pay)\n",
    "dev1.apply_raise()\n",
    "print(dev1.pay)"
   ]
  },
  {
   "cell_type": "markdown",
   "metadata": {},
   "source": [
    "Initialize our Developer class with more information than the base class.\n",
    "\n",
    "\n",
    "Need to create it's own \\_\\_init\\_\\_ method"
   ]
  },
  {
   "cell_type": "code",
   "execution_count": 20,
   "metadata": {
    "collapsed": true
   },
   "outputs": [],
   "source": [
    "class Employee:\n",
    "    num_of_emps = 0\n",
    "    raise_amount = 1.04\n",
    "    \n",
    "    def __init__(self, first, last, pay):\n",
    "        self.first = first \n",
    "        self.last = last\n",
    "        self.pay = pay\n",
    "        self.email = first+\".\"+last + \"@weber.edu\"\n",
    "        Employee.num_of_emps += 1\n",
    "    \n",
    "    def fullname(self):\n",
    "        return \"{}{}\".format(self.first, self.last)\n",
    "    \n",
    "    def apply_raise(self): \n",
    "        self.pay = int(self.pay*self.raise_amount)\n",
    "        \n",
    "class Developer(Employee):\n",
    "    raise_amount = 1.10\n",
    "    \n",
    "    def __init__(self, first, last, pay, prog_lan):\n",
    "        # Employee.__init__(self, first, last, pay)\n",
    "        # Most common way to call base init IF \n",
    "        # you have SINGLE inheritance \n",
    "        super().__init__(first, last, pay)\n",
    "        self.prog_lan = prog_lan\n",
    "        "
   ]
  },
  {
   "cell_type": "code",
   "execution_count": 24,
   "metadata": {},
   "outputs": [
    {
     "name": "stdout",
     "output_type": "stream",
     "text": [
      "Joshua C++\n",
      "Paul C#\n"
     ]
    }
   ],
   "source": [
    "# Test it \n",
    "dev1 = Developer(\"Joshua\", \"Hootman\", 68000, \"C++\")\n",
    "dev2 = Developer(\"Paul\", \"Sheets\", 45000, \"C#\")\n",
    "print(dev1.first, dev1.prog_lan)\n",
    "print(dev2.first, dev2.prog_lan)"
   ]
  },
  {
   "cell_type": "markdown",
   "metadata": {},
   "source": [
    "### Task: Create a new class 'Manager'\n",
    "- Inherits from Employee \n",
    "- Takes an extra argument, a list of employees to manage \n",
    "    - if employees are assigned, set it to none"
   ]
  },
  {
   "cell_type": "code",
   "execution_count": 45,
   "metadata": {},
   "outputs": [],
   "source": [
    "class Employee:\n",
    "    num_of_emps = 0\n",
    "    raise_amount = 1.04\n",
    "    \n",
    "    def __init__(self, first, last, pay):\n",
    "        self.first = first \n",
    "        self.last = last\n",
    "        self.pay = pay\n",
    "        self.email = first+\".\"+last + \"@weber.edu\"\n",
    "        Employee.num_of_emps += 1\n",
    "    \n",
    "    def fullname(self):\n",
    "        return \"{}{}\".format(self.first, self.last)\n",
    "    \n",
    "    def apply_raise(self): \n",
    "        self.pay = int(self.pay*self.raise_amount)\n",
    "        \n",
    "class Developer(Employee):\n",
    "    raise_amount = 1.10\n",
    "    \n",
    "    def __init__(self, first, last, pay, prog_lan):\n",
    "        super().__init__(first, last, pay)\n",
    "        self.prog_lan = prog_lan\n",
    "\n",
    "class Manager(Employee):\n",
    "    # Note: Do NOT pass mutable types: list, Dict as \n",
    "    # Default parameters.  we'll revew it later \n",
    "    raise_amount = 1.06\n",
    "    def __init__(self, first, last, pay,  managed_emp=None):\n",
    "        super().__init__(first, last, pay)\n",
    "        if managed_emp is None:\n",
    "            self.managed_emp = []\n",
    "        else:\n",
    "            self.managed_emp = managed_emp\n",
    "            \n",
    "    def add_emp(self, emp):\n",
    "        if emp not in self.managed_emp:\n",
    "            self.managed_emp.append(emp)\n",
    "\n",
    "    def remove_emp(self, emp):\n",
    "        if emp in self.managed_emp:\n",
    "            self.managed_emp.remove(emp)\n",
    "    \n",
    "    def print_emp(self):\n",
    "        for emp in self.managed_emp:\n",
    "            print(\"-->\", emp.fullname() )\n",
    "    "
   ]
  },
  {
   "cell_type": "code",
   "execution_count": 48,
   "metadata": {},
   "outputs": [
    {
     "name": "stdout",
     "output_type": "stream",
     "text": [
      "Brent.Baxter@weber.edu\n",
      "[<__main__.Developer object at 0x00000232433D5908>, <__main__.Developer object at 0x00000232433D5940>]\n",
      "--> JoshuaHootman\n",
      "--> PaulSheets\n",
      "None\n"
     ]
    }
   ],
   "source": [
    "# create a manager \n",
    "dev1 = Developer(\"Joshua\", \"Hootman\", 68000, \"C++\")\n",
    "dev2 = Developer(\"Paul\", \"Sheets\", 45000, \"C#\")\n",
    "mang = Manager(\"Brent\", \"Baxter\", 80000, [dev1, dev2])\n",
    "print(mang.email)\n",
    "print(mang.managed_emp)\n",
    "print(mang.print_emp())"
   ]
  },
  {
   "cell_type": "code",
   "execution_count": null,
   "metadata": {
    "collapsed": true
   },
   "outputs": [],
   "source": []
  }
 ],
 "metadata": {
  "kernelspec": {
   "display_name": "Python 3",
   "language": "python",
   "name": "python3"
  },
  "language_info": {
   "codemirror_mode": {
    "name": "ipython",
    "version": 3
   },
   "file_extension": ".py",
   "mimetype": "text/x-python",
   "name": "python",
   "nbconvert_exporter": "python",
   "pygments_lexer": "ipython3",
   "version": "3.5.1"
  }
 },
 "nbformat": 4,
 "nbformat_minor": 2
}
