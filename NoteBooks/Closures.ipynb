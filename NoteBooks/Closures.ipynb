{
 "cells": [
  {
   "cell_type": "markdown",
   "metadata": {},
   "source": [
    "# Closures \n",
    "Is a record storing a function together with an environment: a mapping associating each free variable of the function with the value or storage location to which the name was bound when the closure was created.\n",
    "\n",
    "Note: Unlike a regular function, closures allows the function to access those capture variables through the closure's reference to them."
   ]
  },
  {
   "cell_type": "code",
   "execution_count": 19,
   "metadata": {},
   "outputs": [],
   "source": [
    "def outer_func():\n",
    "    message = \"Hi\"\n",
    "    def inner_func():\n",
    "        print(message)\n",
    "    return inner_func"
   ]
  },
  {
   "cell_type": "code",
   "execution_count": 20,
   "metadata": {},
   "outputs": [
    {
     "name": "stdout",
     "output_type": "stream",
     "text": [
      "<function outer_func.<locals>.inner_func at 0x0000024E9FA29EA0>\n",
      "inner_func\n"
     ]
    }
   ],
   "source": [
    "# Test it \n",
    "myf = outer_func()\n",
    "print(myf)\n",
    "print(myf.__name__)"
   ]
  },
  {
   "cell_type": "code",
   "execution_count": 21,
   "metadata": {},
   "outputs": [
    {
     "name": "stdout",
     "output_type": "stream",
     "text": [
      "Hi\n",
      "Hi\n"
     ]
    }
   ],
   "source": [
    "# Execute the function \n",
    "myf()\n",
    "myf()"
   ]
  },
  {
   "cell_type": "code",
   "execution_count": 22,
   "metadata": {
    "collapsed": true
   },
   "outputs": [],
   "source": [
    "def outer_func(msg):\n",
    "    message = msg\n",
    "    def inner_func():\n",
    "        print(message)\n",
    "    return inner_func"
   ]
  },
  {
   "cell_type": "code",
   "execution_count": 23,
   "metadata": {},
   "outputs": [
    {
     "name": "stdout",
     "output_type": "stream",
     "text": [
      "Hi\n",
      "Hola\n"
     ]
    }
   ],
   "source": [
    "# Test it \n",
    "myf1 = outer_func(\"Hi\")\n",
    "myf2 = outer_func(\"Hola\")\n",
    "# Run it \n",
    "myf1()\n",
    "myf2()"
   ]
  },
  {
   "cell_type": "markdown",
   "metadata": {},
   "source": [
    "## Nonlocal keyword \n",
    "Demo on new name binding for a message mariable \n"
   ]
  },
  {
   "cell_type": "code",
   "execution_count": 28,
   "metadata": {},
   "outputs": [
    {
     "name": "stdout",
     "output_type": "stream",
     "text": [
      "Enclosing Message:  Global\n",
      "Enclosing Message:  enclosing\n",
      "Enclosing Message:  local\n",
      "Enclosing Message:  enclosing\n",
      "Enclosing Message:  Global\n"
     ]
    }
   ],
   "source": [
    "message = \"Global\"\n",
    "def enclosing():\n",
    "    message= \"enclosing\"\n",
    "    def local():\n",
    "        message = \"local\"\n",
    "        print(\"Enclosing Message: \", message)\n",
    "    print(\"Enclosing Message: \", message)\n",
    "    local()\n",
    "    print(\"Enclosing Message: \", message)\n",
    "    \n",
    "print(\"Enclosing Message: \", message)\n",
    "enclosing()\n",
    "print(\"Enclosing Message: \", message)"
   ]
  },
  {
   "cell_type": "code",
   "execution_count": 29,
   "metadata": {},
   "outputs": [
    {
     "name": "stdout",
     "output_type": "stream",
     "text": [
      "Enclosing Message:  Global\n",
      "Enclosing Message:  enclosing\n",
      "Enclosing Message:  local\n",
      "Enclosing Message:  enclosing\n",
      "Enclosing Message:  local\n"
     ]
    }
   ],
   "source": [
    "message = \"Global\"\n",
    "def enclosing():\n",
    "    message= \"enclosing\"\n",
    "    def local():\n",
    "        # message = \"local\"\n",
    "        global message \n",
    "        message = \"local\"\n",
    "        print(\"Enclosing Message: \", message)\n",
    "    print(\"Enclosing Message: \", message)\n",
    "    local()\n",
    "    print(\"Enclosing Message: \", message)\n",
    "    \n",
    "print(\"Enclosing Message: \", message)\n",
    "enclosing()\n",
    "print(\"Enclosing Message: \", message)"
   ]
  },
  {
   "cell_type": "code",
   "execution_count": 30,
   "metadata": {},
   "outputs": [
    {
     "name": "stdout",
     "output_type": "stream",
     "text": [
      "Enclosing Message:  Global\n",
      "Enclosing Message:  enclosing\n",
      "Enclosing Message:  local\n",
      "Enclosing Message:  local\n",
      "Enclosing Message:  Global\n"
     ]
    }
   ],
   "source": [
    "message = \"Global\"\n",
    "def enclosing():\n",
    "    message= \"enclosing\"\n",
    "    def local():\n",
    "        # message = \"local\"\n",
    "        #global message\n",
    "        nonlocal message\n",
    "        message = \"local\"\n",
    "        print(\"Enclosing Message: \", message)\n",
    "    print(\"Enclosing Message: \", message)\n",
    "    local()\n",
    "    print(\"Enclosing Message: \", message)\n",
    "    \n",
    "print(\"Enclosing Message: \", message)\n",
    "enclosing()\n",
    "print(\"Enclosing Message: \", message)"
   ]
  }
 ],
 "metadata": {
  "kernelspec": {
   "display_name": "Python 3",
   "language": "python",
   "name": "python3"
  },
  "language_info": {
   "codemirror_mode": {
    "name": "ipython",
    "version": 3
   },
   "file_extension": ".py",
   "mimetype": "text/x-python",
   "name": "python",
   "nbconvert_exporter": "python",
   "pygments_lexer": "ipython3",
   "version": "3.5.1"
  }
 },
 "nbformat": 4,
 "nbformat_minor": 2
}
