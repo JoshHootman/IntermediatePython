{
 "cells": [
  {
   "cell_type": "markdown",
   "metadata": {},
   "source": [
    "# Strings and Representations \n",
    "Discuss the differences between strings and representations.  Thiswill make our code easier to maintain, debug, and make human-friendly readable "
   ]
  },
  {
   "cell_type": "markdown",
   "metadata": {},
   "source": [
    "## Operator overloading"
   ]
  },
  {
   "cell_type": "code",
   "execution_count": 1,
   "metadata": {},
   "outputs": [
    {
     "name": "stdout",
     "output_type": "stream",
     "text": [
      "3\n",
      "ab\n"
     ]
    }
   ],
   "source": [
    "print(1+2)\n",
    "print(\"a\"+\"b\")"
   ]
  },
  {
   "cell_type": "markdown",
   "metadata": {},
   "source": [
    "So, how is the behavior different between strings and integers "
   ]
  },
  {
   "cell_type": "code",
   "execution_count": 4,
   "metadata": {
    "collapsed": true
   },
   "outputs": [],
   "source": [
    "class Employee:\n",
    "    num_of_emps = 0\n",
    "    raise_amount = 1.04\n",
    "    \n",
    "    def __init__(self, first, last, pay):\n",
    "        self.first = first \n",
    "        self.last = last\n",
    "        self.pay = pay\n",
    "        self.email = first+\".\"+last + \"@weber.edu\"\n",
    "        Employee.num_of_emps += 1\n",
    "    \n",
    "    def fullname(self):\n",
    "        return \"{}{}\".format(self.first, self.last)\n",
    "    \n",
    "    def apply_raise(self): \n",
    "        self.pay = int(self.pay*self.raise_amount)"
   ]
  },
  {
   "cell_type": "code",
   "execution_count": 6,
   "metadata": {},
   "outputs": [
    {
     "name": "stdout",
     "output_type": "stream",
     "text": [
      "<__main__.Employee object at 0x000001C15C97CB00>\n"
     ]
    }
   ],
   "source": [
    "emp1 = Employee(\"Joshua\", \"Hootman\", 78000)\n",
    "emp1 = Employee(\"Heather\", \"Downing\", 30000)\n",
    "print(emp1)"
   ]
  },
  {
   "cell_type": "code",
   "execution_count": 8,
   "metadata": {},
   "outputs": [
    {
     "name": "stdout",
     "output_type": "stream",
     "text": [
      "<class 'int'>\n"
     ]
    }
   ],
   "source": [
    "print(int)"
   ]
  },
  {
   "cell_type": "markdown",
   "metadata": {},
   "source": [
    "Define our own special method, we will be able to shape the behaviour of our needs.  Special methods are always with **\\_\\_method\\_\\_**\n",
    "\n",
    "### Two common methods are **\\_\\_repr\\_\\_** and **\\_\\_str\\_\\_**"
   ]
  },
  {
   "cell_type": "code",
   "execution_count": 9,
   "metadata": {},
   "outputs": [
    {
     "data": {
      "text/plain": [
       "\"<class 'int'>\""
      ]
     },
     "execution_count": 9,
     "metadata": {},
     "output_type": "execute_result"
    }
   ],
   "source": [
    "repr(int)"
   ]
  },
  {
   "cell_type": "code",
   "execution_count": 10,
   "metadata": {},
   "outputs": [
    {
     "data": {
      "text/plain": [
       "\"<class 'int'>\""
      ]
     },
     "execution_count": 10,
     "metadata": {},
     "output_type": "execute_result"
    }
   ],
   "source": [
    "str(int)"
   ]
  },
  {
   "cell_type": "markdown",
   "metadata": {},
   "source": [
    "### So, What is the difference between str() and repr()"
   ]
  },
  {
   "cell_type": "code",
   "execution_count": 12,
   "metadata": {},
   "outputs": [
    {
     "name": "stdout",
     "output_type": "stream",
     "text": [
      "[1, 2, 3, 4]\n",
      "[1, 2, 3, 4]\n",
      "sample string \n",
      "'sample string '\n"
     ]
    }
   ],
   "source": [
    "a = [1, 2, 3, 4]\n",
    "b = \"sample string \"\n",
    "print(str(a))\n",
    "print(repr(a))\n",
    "\n",
    "print(str(b))\n",
    "print(repr(b))"
   ]
  },
  {
   "cell_type": "markdown",
   "metadata": {},
   "source": [
    "## The goal \n",
    "- The goal of **\\_\\_repr\\_\\_** is to be unambiguous (more for the developers)\n",
    "\n",
    "- The goal of **\\_\\_str\\_\\_** is to be readable (for regular users)"
   ]
  },
  {
   "cell_type": "code",
   "execution_count": 13,
   "metadata": {},
   "outputs": [
    {
     "name": "stdout",
     "output_type": "stream",
     "text": [
      "2017-06-11 04:35:48.528551\n",
      "2017-06-11 04:35:48.528551\n"
     ]
    }
   ],
   "source": [
    "import datetime\n",
    "a = datetime.datetime(2017, 6, 11, 4 , 35, 48, 528551)\n",
    "b = \"2017-06-11 04:35:48.528551\"\n",
    "\n",
    "print(str(a))\n",
    "print(str(b))"
   ]
  },
  {
   "cell_type": "code",
   "execution_count": 14,
   "metadata": {},
   "outputs": [
    {
     "name": "stdout",
     "output_type": "stream",
     "text": [
      "datetime.datetime(2017, 6, 11, 4, 35, 48, 528551)\n",
      "'2017-06-11 04:35:48.528551'\n"
     ]
    }
   ],
   "source": [
    "print(repr(a))\n",
    "print(repr(b))"
   ]
  },
  {
   "cell_type": "code",
   "execution_count": 16,
   "metadata": {
    "collapsed": true
   },
   "outputs": [],
   "source": [
    "class Employee:\n",
    "    num_of_emps = 0\n",
    "    raise_amount = 1.04\n",
    "    \n",
    "    def __init__(self, first, last, pay):\n",
    "        self.first = first \n",
    "        self.last = last\n",
    "        self.pay = pay\n",
    "        self.email = first+\".\"+last + \"@weber.edu\"\n",
    "        Employee.num_of_emps += 1\n",
    "    \n",
    "    def fullname(self):\n",
    "        return \"{}{}\".format(self.first, self.last)\n",
    "    \n",
    "    def apply_raise(self): \n",
    "        self.pay = int(self.pay*self.raise_amount)\n",
    "        \n",
    "    # Something you can copy/paste back into REPL \n",
    "    # To recreate this object \n",
    "    def __repr__(self):\n",
    "        return \"Employee('{}', '{}', {})\".format(self.first,\n",
    "                                                   self.last,\n",
    "                                                   self.pay)\n",
    "        "
   ]
  },
  {
   "cell_type": "code",
   "execution_count": 17,
   "metadata": {},
   "outputs": [
    {
     "name": "stdout",
     "output_type": "stream",
     "text": [
      "Employee('Joshua', 'Hootman', 78000)\n"
     ]
    }
   ],
   "source": [
    "# Test it \n",
    "emp1 = Employee(\"Joshua\", \"Hootman\", 78000)\n",
    "print(emp1)"
   ]
  },
  {
   "cell_type": "markdown",
   "metadata": {},
   "source": [
    "Now it is more readable, and you can recreate this object.\n",
    "Now, create **str()**\n"
   ]
  },
  {
   "cell_type": "code",
   "execution_count": 22,
   "metadata": {
    "collapsed": true
   },
   "outputs": [],
   "source": [
    "class Employee:\n",
    "    num_of_emps = 0\n",
    "    raise_amount = 1.04\n",
    "    \n",
    "    def __init__(self, first, last, pay):\n",
    "        self.first = first \n",
    "        self.last = last\n",
    "        self.pay = pay\n",
    "        self.email = first+\".\"+last + \"@weber.edu\"\n",
    "        Employee.num_of_emps += 1\n",
    "    \n",
    "    def fullname(self):\n",
    "        return \"{}{}\".format(self.first, self.last)\n",
    "    \n",
    "    def apply_raise(self): \n",
    "        self.pay = int(self.pay*self.raise_amount)\n",
    "        \n",
    "    # Something you can copy/paste back into REPL \n",
    "    # To recreate this object \n",
    "    def __repr__(self):\n",
    "        return \"Employee('{}', '{}', {})\".format(self.first,\n",
    "                                                   self.last,\n",
    "                                                   self.pay)\n",
    "        \n",
    "    def __str__(self):\n",
    "        return \"{} - {}, {})\".format(self.first,\n",
    "                                                   self.last,\n",
    "                                                   self.email)\n",
    "    \n",
    "    "
   ]
  },
  {
   "cell_type": "code",
   "execution_count": 23,
   "metadata": {},
   "outputs": [
    {
     "name": "stdout",
     "output_type": "stream",
     "text": [
      "Joshua - Hootman, Joshua.Hootman@weber.edu)\n"
     ]
    }
   ],
   "source": [
    "# By default, it calls str()\n",
    "# If it is not available, it calls repr()\n",
    "# Test it \n",
    "emp1 = Employee(\"Joshua\", \"Hootman\", 78000)\n",
    "print(emp1)"
   ]
  },
  {
   "cell_type": "markdown",
   "metadata": {},
   "source": [
    "**One more example**\n"
   ]
  },
  {
   "cell_type": "code",
   "execution_count": 26,
   "metadata": {
    "collapsed": true
   },
   "outputs": [],
   "source": [
    "class Point2D:\n",
    "    def __init__(self, x, y):\n",
    "        self.x =x\n",
    "        self.y = y\n",
    "        \n",
    "    def __str__(self):\n",
    "        return'({}, {})'.format(self.x, self.y)\n",
    "    \n",
    "    def __repr__(self):\n",
    "        return'Point2D(x={}, y={})'.format(self.x, self.y)"
   ]
  },
  {
   "cell_type": "code",
   "execution_count": 27,
   "metadata": {
    "collapsed": true
   },
   "outputs": [],
   "source": [
    "# Test it \n",
    "p = Point2D(x = 33, y=21)"
   ]
  },
  {
   "cell_type": "code",
   "execution_count": 32,
   "metadata": {},
   "outputs": [
    {
     "name": "stdout",
     "output_type": "stream",
     "text": [
      "(33, 21)\n",
      "Point2D(x=33, y=21)\n"
     ]
    }
   ],
   "source": [
    "print(str(p))\n",
    "print(repr(p))"
   ]
  },
  {
   "cell_type": "code",
   "execution_count": 40,
   "metadata": {
    "collapsed": true
   },
   "outputs": [],
   "source": [
    "class Point2D:\n",
    "    def __init__(self, x, y):\n",
    "        self.x =x\n",
    "        self.y = y\n",
    "        \n",
    "    def __str__(self):\n",
    "        return'({}, {})'.format(self.x, self.y)\n",
    "    \n",
    "   # def __repr__(self):\n",
    "   #     return'Point2D(x={}, y={})'.format(self.x, self.y)"
   ]
  },
  {
   "cell_type": "code",
   "execution_count": 41,
   "metadata": {},
   "outputs": [
    {
     "name": "stdout",
     "output_type": "stream",
     "text": [
      "(33, 21)\n",
      "<__main__.Point2D object at 0x000001C15C9962E8>\n"
     ]
    }
   ],
   "source": [
    "# Test it \n",
    "p = Point2D(x = 33, y=21)\n",
    "print(str(p))\n",
    "print(repr(p))"
   ]
  },
  {
   "cell_type": "code",
   "execution_count": 45,
   "metadata": {
    "collapsed": true
   },
   "outputs": [],
   "source": [
    "class Point2D:\n",
    "    def __init__(self, x, y):\n",
    "        self.x =x\n",
    "        self.y = y\n",
    "        \n",
    "    def __str__(self):\n",
    "        return'({}, {})'.format(self.x, self.y)\n",
    "    \n",
    "    def __repr__(self):\n",
    "        return'Point2D(x={}, y={})'.format(self.x, self.y)"
   ]
  },
  {
   "cell_type": "code",
   "execution_count": 46,
   "metadata": {},
   "outputs": [
    {
     "data": {
      "text/plain": [
       "'(33, 21)'"
      ]
     },
     "execution_count": 46,
     "metadata": {},
     "output_type": "execute_result"
    }
   ],
   "source": [
    "p = Point2D(x = 33, y=21)\n",
    "str(p)"
   ]
  },
  {
   "cell_type": "code",
   "execution_count": 47,
   "metadata": {},
   "outputs": [
    {
     "name": "stdout",
     "output_type": "stream",
     "text": [
      "The circle is centered at(33, 21)\n"
     ]
    }
   ],
   "source": [
    "print(\"The circle is centered at{}\".format(p))"
   ]
  },
  {
   "cell_type": "markdown",
   "metadata": {},
   "source": [
    "By default str() simply calls repr().  That is, if you do not define str(), then it will use repr() when str() is required.\n",
    "\n",
    "Python uses the **repr()** of an object when it prints part of a list dict, or any other built-in type"
   ]
  },
  {
   "cell_type": "code",
   "execution_count": 48,
   "metadata": {},
   "outputs": [
    {
     "data": {
      "text/plain": [
       "'[Point2D(x=0, y=0), Point2D(x=3, y=4), Point2D(x=4, y=5)]'"
      ]
     },
     "execution_count": 48,
     "metadata": {},
     "output_type": "execute_result"
    }
   ],
   "source": [
    "l = [Point2D(x =0, y =0), Point2D(x=3, y=4), Point2D(x=4, y =5)]\n",
    "str(l)"
   ]
  },
  {
   "cell_type": "code",
   "execution_count": 49,
   "metadata": {},
   "outputs": [
    {
     "data": {
      "text/plain": [
       "'[Point2D(x=0, y=0), Point2D(x=3, y=4), Point2D(x=4, y=5)]'"
      ]
     },
     "execution_count": 49,
     "metadata": {},
     "output_type": "execute_result"
    }
   ],
   "source": [
    "repr(l)"
   ]
  },
  {
   "cell_type": "code",
   "execution_count": 51,
   "metadata": {},
   "outputs": [
    {
     "data": {
      "text/plain": [
       "'[Point2D(x=0, y=0), Point2D(x=1, y=2), Point2D(x=2, y=4)]'"
      ]
     },
     "execution_count": 51,
     "metadata": {},
     "output_type": "execute_result"
    }
   ],
   "source": [
    "l = [Point2D(i, i*2) for i in range(3)]\n",
    "str(l)"
   ]
  },
  {
   "cell_type": "code",
   "execution_count": 54,
   "metadata": {},
   "outputs": [
    {
     "data": {
      "text/plain": [
       "'{0: Point2D(x=0, y=0), 1: Point2D(x=1, y=2), 2: Point2D(x=2, y=4)}'"
      ]
     },
     "execution_count": 54,
     "metadata": {},
     "output_type": "execute_result"
    }
   ],
   "source": [
    "# A dictionary\n",
    "l = {i: Point2D(i, i*2) for i in range(3)}\n",
    "str(l)"
   ]
  },
  {
   "cell_type": "markdown",
   "metadata": {},
   "source": [
    "### The special \\_\\_format\\_\\_() format\n",
    "Invoke by str.format()"
   ]
  },
  {
   "cell_type": "code",
   "execution_count": 60,
   "metadata": {
    "collapsed": true
   },
   "outputs": [],
   "source": [
    "class Point2D:\n",
    "    def __init__(self, x, y):\n",
    "        self.x =x\n",
    "        self.y = y\n",
    "        \n",
    "    def __str__(self):\n",
    "        return'({}, {})'.format(self.x, self.y)\n",
    "    \n",
    "    def __repr__(self):\n",
    "        return'Point2D(x={}, y={})'.format(self.x, self.y)\n",
    "    \n",
    "    def __format__(self, f):\n",
    "        return \"Formatted point: {}, {}, {}\".format(self.x, self.y, f)"
   ]
  },
  {
   "cell_type": "code",
   "execution_count": 62,
   "metadata": {},
   "outputs": [
    {
     "data": {
      "text/plain": [
       "'This is a point Formatted point: 2, 3, '"
      ]
     },
     "execution_count": 62,
     "metadata": {},
     "output_type": "execute_result"
    }
   ],
   "source": [
    "# Test it \n",
    "\"This is a point {}\".format(Point2D(2,3))"
   ]
  },
  {
   "cell_type": "markdown",
   "metadata": {},
   "source": [
    "What is format()?\n",
    "Anything passed to the **f**<br>\n",
    "Replacement fields:\n",
    "- {filed_name:format_spec}\n",
    "- optional **format specification after the colon**"
   ]
  },
  {
   "cell_type": "code",
   "execution_count": 78,
   "metadata": {
    "collapsed": true
   },
   "outputs": [],
   "source": [
    "class Point2D:\n",
    "    def __init__(self, x, y):\n",
    "        self.x =x\n",
    "        self.y = y\n",
    "        \n",
    "    def __str__(self):\n",
    "        return'({}, {})'.format(self.x, self.y)\n",
    "    \n",
    "    def __repr__(self):\n",
    "        return'Point2D(x={}, y={})'.format(self.x, self.y)\n",
    "    \n",
    "    def __format__(self, f):\n",
    "        if f =='r':\n",
    "            return \"{}, {}\".format(self.x, self.y)\n",
    "        else:\n",
    "            return \"{}, {}\".format(self.y, self.x)\n",
    "        \n",
    "        \n",
    "        \n",
    "        "
   ]
  },
  {
   "cell_type": "code",
   "execution_count": 79,
   "metadata": {},
   "outputs": [
    {
     "data": {
      "text/plain": [
       "'8, 2'"
      ]
     },
     "execution_count": 79,
     "metadata": {},
     "output_type": "execute_result"
    }
   ],
   "source": [
    "\"{}\".format(Point2D(2,8))"
   ]
  },
  {
   "cell_type": "code",
   "execution_count": 80,
   "metadata": {},
   "outputs": [
    {
     "data": {
      "text/plain": [
       "'2, 8'"
      ]
     },
     "execution_count": 80,
     "metadata": {},
     "output_type": "execute_result"
    }
   ],
   "source": [
    "\"{:r}\".format(Point2D(2,8))"
   ]
  },
  {
   "cell_type": "markdown",
   "metadata": {},
   "source": [
    "### The reprlib\n",
    "The standard library module **reprlib** support alternative impplementation of **repr()**\n",
    "- Limits otherwise excessive string length \n",
    "- Useful for large colllections "
   ]
  },
  {
   "cell_type": "code",
   "execution_count": 84,
   "metadata": {},
   "outputs": [
    {
     "name": "stdout",
     "output_type": "stream",
     "text": [
      "1000000\n"
     ]
    },
    {
     "data": {
      "text/plain": [
       "'[Point2D(x=0, y=0), Point2D(x=0, y=1), Point2D(x=0, y=2), Point2D(x=0, y=3), Point2D(x=0, y=4), Point2D(x=0, y=5), ...]'"
      ]
     },
     "execution_count": 84,
     "metadata": {},
     "output_type": "execute_result"
    }
   ],
   "source": [
    "import reprlib\n",
    "points = [Point2D(x, y) for x in range(1000) for y in range(1000)]\n",
    "print(len(points))\n",
    "reprlib.repr(points)"
   ]
  },
  {
   "cell_type": "markdown",
   "metadata": {},
   "source": [
    "### ascii(), ord(), chr()\n",
    "#### ascii "
   ]
  },
  {
   "cell_type": "code",
   "execution_count": 86,
   "metadata": {},
   "outputs": [
    {
     "data": {
      "text/plain": [
       "str"
      ]
     },
     "execution_count": 86,
     "metadata": {},
     "output_type": "execute_result"
    }
   ],
   "source": [
    "x = \"Moño\" # Alt + 164\n",
    "type(x)"
   ]
  },
  {
   "cell_type": "code",
   "execution_count": 87,
   "metadata": {},
   "outputs": [
    {
     "name": "stdout",
     "output_type": "stream",
     "text": [
      "'Mo\\xf1o'\n"
     ]
    }
   ],
   "source": [
    "y = ascii(x)\n",
    "print(y)"
   ]
  },
  {
   "cell_type": "markdown",
   "metadata": {},
   "source": [
    "### ord()\n",
    "converts a sing character to its **integer** unicode codepoint"
   ]
  },
  {
   "cell_type": "code",
   "execution_count": 88,
   "metadata": {},
   "outputs": [
    {
     "name": "stdout",
     "output_type": "stream",
     "text": [
      "Help on built-in function ord in module builtins:\n",
      "\n",
      "ord(c, /)\n",
      "    Return the Unicode code point for a one-character string.\n",
      "\n"
     ]
    }
   ],
   "source": [
    "help (ord)"
   ]
  },
  {
   "cell_type": "code",
   "execution_count": 89,
   "metadata": {},
   "outputs": [
    {
     "data": {
      "text/plain": [
       "190"
      ]
     },
     "execution_count": 89,
     "metadata": {},
     "output_type": "execute_result"
    }
   ],
   "source": [
    "x = \"¾\" # Alt + 0190\n",
    "ord(x)"
   ]
  },
  {
   "cell_type": "markdown",
   "metadata": {},
   "source": [
    "### chr()\n",
    "converts an integer Unicode codepoint to a single character string "
   ]
  },
  {
   "cell_type": "code",
   "execution_count": 94,
   "metadata": {},
   "outputs": [
    {
     "data": {
      "text/plain": [
       "'¾'"
      ]
     },
     "execution_count": 94,
     "metadata": {},
     "output_type": "execute_result"
    }
   ],
   "source": [
    "chr(190)"
   ]
  },
  {
   "cell_type": "code",
   "execution_count": 95,
   "metadata": {},
   "outputs": [
    {
     "name": "stdout",
     "output_type": "stream",
     "text": [
      "\n",
      "\n",
      "\n",
      "\n",
      "\n",
      "\n",
      "\n",
      "\n",
      "\n",
      "\n",
      " \n",
      "¡\n",
      "¢\n",
      "£\n",
      "¤\n",
      "¥\n",
      "¦\n",
      "§\n",
      "¨\n",
      "©\n",
      "ª\n",
      "«\n",
      "¬\n",
      "­\n",
      "®\n",
      "¯\n",
      "°\n",
      "±\n",
      "²\n",
      "³\n",
      "´\n",
      "µ\n",
      "¶\n",
      "·\n",
      "¸\n",
      "¹\n",
      "º\n",
      "»\n",
      "¼\n",
      "½\n",
      "¾\n",
      "¿\n",
      "À\n",
      "Á\n",
      "Â\n",
      "Ã\n",
      "Ä\n",
      "Å\n",
      "Æ\n",
      "Ç\n"
     ]
    }
   ],
   "source": [
    "for i in range(150,200):\n",
    "    print(chr(i))"
   ]
  },
  {
   "cell_type": "code",
   "execution_count": null,
   "metadata": {
    "collapsed": true
   },
   "outputs": [],
   "source": []
  }
 ],
 "metadata": {
  "kernelspec": {
   "display_name": "Python 3",
   "language": "python",
   "name": "python3"
  },
  "language_info": {
   "codemirror_mode": {
    "name": "ipython",
    "version": 3
   },
   "file_extension": ".py",
   "mimetype": "text/x-python",
   "name": "python",
   "nbconvert_exporter": "python",
   "pygments_lexer": "ipython3",
   "version": "3.5.1"
  }
 },
 "nbformat": 4,
 "nbformat_minor": 2
}
