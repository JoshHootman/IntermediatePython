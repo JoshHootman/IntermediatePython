{
 "cells": [
  {
   "cell_type": "markdown",
   "metadata": {},
   "source": [
    "## Chaining Exceptions \n",
    "1. When handling an exception, another exception occurs (**Implicit Chaining**)\n",
    "    - An Exception occurs while another is being handled \n",
    "    - Python will associate the new exception with the old one.  Using the **\\_\\_context\\_\\_** magic method \n",
    "2. Deliberately handle an exception by translating into a different exception type (**Explicit Chaining**)\n",
    "    - Handled by the **\\_\\_cause\\_\\_** magic method \n",
    "    \n",
    "Note: you want to keep the information from the orginal exception It can help you avoid unnecessary duplication of information, and it helps with diagnostic"
   ]
  },
  {
   "cell_type": "markdown",
   "metadata": {},
   "source": [
    "## Tracebacks\n",
    "Remeber everything in Python is an object, It creates traceback to send the function call stack which then are printed by the interpreter when an exception is unhandled \n",
    "\n",
    "\n",
    "\n",
    "\n",
    "Python 3 has **\\_\\_traceback\\_\\_** special attribute which contains a refrence to the traceback object associated with that exception.  "
   ]
  },
  {
   "cell_type": "markdown",
   "metadata": {},
   "source": [
    "## Assertions: Interval Invariants\n",
    "you can check your code with assertions, it will  help check exceptions more quickly.\n",
    "\n",
    "\n",
    "General form: **Assertion condtion [,message]**\n",
    "- condition is a boolean expression\n",
    "- message in an optional string for an error mesage\n",
    "- If condition is **False** => AssertionError is raised\n",
    "- If message is supplied, it is used as the exception payload"
   ]
  },
  {
   "cell_type": "code",
   "execution_count": 1,
   "metadata": {},
   "outputs": [
    {
     "ename": "AssertionError",
     "evalue": "The condation was false",
     "output_type": "error",
     "traceback": [
      "\u001b[1;31m---------------------------------------------------------------------------\u001b[0m",
      "\u001b[1;31mAssertionError\u001b[0m                            Traceback (most recent call last)",
      "\u001b[1;32m<ipython-input-1-0910fea1f1db>\u001b[0m in \u001b[0;36m<module>\u001b[1;34m()\u001b[0m\n\u001b[1;32m----> 1\u001b[1;33m \u001b[1;32massert\u001b[0m \u001b[1;32mFalse\u001b[0m\u001b[1;33m,\u001b[0m \u001b[1;34m'The condation was false'\u001b[0m\u001b[1;33m\u001b[0m\u001b[0m\n\u001b[0m",
      "\u001b[1;31mAssertionError\u001b[0m: The condation was false"
     ]
    }
   ],
   "source": [
    "assert False, 'The condation was false'"
   ]
  },
  {
   "cell_type": "markdown",
   "metadata": {},
   "source": [
    "Assertions are best used to document any assumptions \n",
    "- your code makes such as a name being bound to an object rather then None\n",
    "- a list being sorted at a particular point in the program \n",
    "\n",
    "There are many good and bad places to use assertions in your programs. "
   ]
  },
  {
   "cell_type": "code",
   "execution_count": 2,
   "metadata": {
    "collapsed": true
   },
   "outputs": [],
   "source": [
    "def modulus_three(n):\n",
    "    r = n % 3\n",
    "    if r ==0:\n",
    "        print(\"Multiple of 3\")\n",
    "    elif r == 1:\n",
    "        print(\"Remainder 1\")\n",
    "    else:\n",
    "        print('Remainder 2')"
   ]
  },
  {
   "cell_type": "code",
   "execution_count": 3,
   "metadata": {
    "collapsed": true
   },
   "outputs": [],
   "source": [
    "def modulus_three(n):\n",
    "    r = n % 3\n",
    "    if r ==0:\n",
    "        print(\"Multiple of 3\")\n",
    "    elif r == 1:\n",
    "        print(\"Remainder 1\")\n",
    "    else:\n",
    "        assert r ==2, 'Remainder is not 2'\n",
    "        print('Remainder 2')"
   ]
  },
  {
   "cell_type": "code",
   "execution_count": 4,
   "metadata": {},
   "outputs": [
    {
     "name": "stdout",
     "output_type": "stream",
     "text": [
      "Multiple of 3\n"
     ]
    }
   ],
   "source": [
    "# Test it \n",
    "modulus_three(3)"
   ]
  },
  {
   "cell_type": "code",
   "execution_count": 5,
   "metadata": {},
   "outputs": [
    {
     "name": "stdout",
     "output_type": "stream",
     "text": [
      "Remainder 2\n"
     ]
    }
   ],
   "source": [
    "modulus_three(5)"
   ]
  },
  {
   "cell_type": "markdown",
   "metadata": {},
   "source": [
    "Small overhead, compare to huge benefits they bring in helping us build correct program\n",
    "\n",
    "particularly helpful when people use **clone and modifier programming**.  When new code is based on existing code that has been adjusted correctly or not to serve a purpose "
   ]
  },
  {
   "cell_type": "code",
   "execution_count": null,
   "metadata": {
    "collapsed": true
   },
   "outputs": [],
   "source": []
  }
 ],
 "metadata": {
  "kernelspec": {
   "display_name": "Python 3",
   "language": "python",
   "name": "python3"
  },
  "language_info": {
   "codemirror_mode": {
    "name": "ipython",
    "version": 3
   },
   "file_extension": ".py",
   "mimetype": "text/x-python",
   "name": "python",
   "nbconvert_exporter": "python",
   "pygments_lexer": "ipython3",
   "version": "3.5.1"
  }
 },
 "nbformat": 4,
 "nbformat_minor": 2
}
