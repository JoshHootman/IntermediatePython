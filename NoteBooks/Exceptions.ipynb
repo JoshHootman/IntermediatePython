{
 "cells": [
  {
   "cell_type": "markdown",
   "metadata": {},
   "source": [
    "## Chaining Exceptions \n",
    "1. When handling an exception, another exception occurs (**Implicit Chaining**)\n",
    "    - An Exception occurs while another is being handled \n",
    "    - Python will associate the new exception with the old one.  Using the **\\_\\_context\\_\\_** magic method \n",
    "2. Deliberately handle an exception by translating into a different exception type (**Explicit Chaining**)\n",
    "    - Handled by the **\\_\\_cause\\_\\_** magic method \n",
    "    \n",
    "Note: you want to keep the information from the orginal exception It can help you avoid unnecessary duplication of information, and it helps with diagnostic"
   ]
  },
  {
   "cell_type": "markdown",
   "metadata": {},
   "source": [
    "## Tracebacks\n",
    "Remeber everything in Python is an object, It creates traceback to send the function call stack which then are printed by the interpreter when an exception is unhandled \n",
    "\n",
    "\n",
    "\n",
    "\n",
    "Python 3 has **\\_\\_traceback\\_\\_** special attribute which contains a refrence to the traceback object associated with that exception.  "
   ]
  },
  {
   "cell_type": "code",
   "execution_count": null,
   "metadata": {
    "collapsed": true
   },
   "outputs": [],
   "source": []
  }
 ],
 "metadata": {
  "kernelspec": {
   "display_name": "Python 3",
   "language": "python",
   "name": "python3"
  },
  "language_info": {
   "codemirror_mode": {
    "name": "ipython",
    "version": 3
   },
   "file_extension": ".py",
   "mimetype": "text/x-python",
   "name": "python",
   "nbconvert_exporter": "python",
   "pygments_lexer": "ipython3",
   "version": "3.5.1"
  }
 },
 "nbformat": 4,
 "nbformat_minor": 2
}
